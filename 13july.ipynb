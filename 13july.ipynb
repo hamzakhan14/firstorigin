{
 "cells": [
  {
   "cell_type": "markdown",
   "metadata": {},
   "source": [
    "# Exception and the File Handling"
   ]
  },
  {
   "cell_type": "code",
   "execution_count": 2,
   "metadata": {},
   "outputs": [
    {
     "ename": "ZeroDivisionError",
     "evalue": "division by zero",
     "output_type": "error",
     "traceback": [
      "\u001b[1;31m---------------------------------------------------------------------------\u001b[0m",
      "\u001b[1;31mZeroDivisionError\u001b[0m                         Traceback (most recent call last)",
      "\u001b[1;32m<ipython-input-2-d6db690f4e44>\u001b[0m in \u001b[0;36m<module>\u001b[1;34m\u001b[0m\n\u001b[1;32m----> 1\u001b[1;33m \u001b[1;36m5\u001b[0m\u001b[1;33m/\u001b[0m\u001b[1;36m0\u001b[0m\u001b[1;33m\u001b[0m\u001b[1;33m\u001b[0m\u001b[0m\n\u001b[0m\u001b[0;32m      2\u001b[0m \u001b[0mprint\u001b[0m\u001b[1;33m(\u001b[0m\u001b[1;34m\"hellow\"\u001b[0m\u001b[1;33m)\u001b[0m\u001b[1;33m\u001b[0m\u001b[1;33m\u001b[0m\u001b[0m\n",
      "\u001b[1;31mZeroDivisionError\u001b[0m: division by zero"
     ]
    }
   ],
   "source": [
    "5/0\n",
    "print(\"hellow\")"
   ]
  },
  {
   "cell_type": "code",
   "execution_count": null,
   "metadata": {},
   "outputs": [],
   "source": [
    "a= int(input(\"Enter a number\"))\n",
    "b= int(input(\"Enter a number\"))\n",
    "try:\n",
    "    c=a/b\n",
    "    print(c)\n",
    "except ZeroDivisionError:\n",
    "    print(\"Exception is caught ZeroDivisionError\")\n",
    "        "
   ]
  },
  {
   "cell_type": "code",
   "execution_count": null,
   "metadata": {},
   "outputs": [],
   "source": [
    "a= int(input(\"Enter a number\"))\n",
    "b= int(input(\"Enter a number\"))\n",
    "try:\n",
    "    c=a/b\n",
    "    print(c)\n",
    "except ZeroDivisionError:\n",
    "    print(\"Exception is caught ZeroDivisionError\")\n",
    "        "
   ]
  },
  {
   "cell_type": "code",
   "execution_count": null,
   "metadata": {},
   "outputs": [],
   "source": [
    "a= int(input(\"Enter a number\"))\n",
    "b= int(input(\"Enter a number\"))\n",
    "try:\n",
    "    c=a/b\n",
    "    print(c)\n",
    "except ZeroDivisionError:\n",
    "    print(\"Handled t ZeroDivisionError\")\n",
    "else:\n",
    "    print(\"Else \" +str(c))"
   ]
  },
  {
   "cell_type": "code",
   "execution_count": 4,
   "metadata": {},
   "outputs": [
    {
     "name": "stdout",
     "output_type": "stream",
     "text": [
      "First\n",
      "Enter a number3\n",
      "Enter a number2\n"
     ]
    },
    {
     "ename": "IndexError",
     "evalue": "list index out of range",
     "output_type": "error",
     "traceback": [
      "\u001b[1;31m---------------------------------------------------------------------------\u001b[0m",
      "\u001b[1;31mIndexError\u001b[0m                                Traceback (most recent call last)",
      "\u001b[1;32m<ipython-input-4-aa4ee4cad738>\u001b[0m in \u001b[0;36m<module>\u001b[1;34m\u001b[0m\n\u001b[0;32m      5\u001b[0m \u001b[1;32mtry\u001b[0m\u001b[1;33m:\u001b[0m\u001b[1;33m\u001b[0m\u001b[1;33m\u001b[0m\u001b[0m\n\u001b[0;32m      6\u001b[0m     \u001b[0mc\u001b[0m\u001b[1;33m=\u001b[0m\u001b[0ma\u001b[0m\u001b[1;33m/\u001b[0m\u001b[0mb\u001b[0m\u001b[1;33m\u001b[0m\u001b[1;33m\u001b[0m\u001b[0m\n\u001b[1;32m----> 7\u001b[1;33m     \u001b[0me\u001b[0m\u001b[1;33m=\u001b[0m\u001b[0md\u001b[0m\u001b[1;33m[\u001b[0m\u001b[1;36m5\u001b[0m\u001b[1;33m]\u001b[0m\u001b[1;33m\u001b[0m\u001b[1;33m\u001b[0m\u001b[0m\n\u001b[0m\u001b[0;32m      8\u001b[0m     \u001b[0mprint\u001b[0m\u001b[1;33m(\u001b[0m\u001b[0me\u001b[0m\u001b[1;33m)\u001b[0m\u001b[1;33m\u001b[0m\u001b[1;33m\u001b[0m\u001b[0m\n\u001b[0;32m      9\u001b[0m     \u001b[0mprint\u001b[0m\u001b[1;33m(\u001b[0m\u001b[0mc\u001b[0m\u001b[1;33m)\u001b[0m\u001b[1;33m\u001b[0m\u001b[1;33m\u001b[0m\u001b[0m\n",
      "\u001b[1;31mIndexError\u001b[0m: list index out of range"
     ]
    }
   ],
   "source": [
    "print(\"First\")\n",
    "a= int(input(\"Enter a number\"))\n",
    "b= int(input(\"Enter a number\"))\n",
    "d=[]\n",
    "try:\n",
    "    c=a/b\n",
    "    e=d[5]\n",
    "    print(e)\n",
    "    print(c)\n",
    "except ZeroDivisionError:\n",
    "    print(\"Handled t ZeroDivisionError\")\n",
    "\n",
    "print(\"Last\")"
   ]
  },
  {
   "cell_type": "code",
   "execution_count": 9,
   "metadata": {},
   "outputs": [
    {
     "name": "stdout",
     "output_type": "stream",
     "text": [
      "Enter a number5\n",
      "Enter a number0\n",
      "Handled t ZeroDivisionError\n"
     ]
    }
   ],
   "source": [
    "a= int(input(\"Enter a number\"))\n",
    "b= int(input(\"Enter a number\"))\n",
    "d=[]\n",
    "try:\n",
    "    c=a/b\n",
    "    e=d[5]\n",
    "except ZeroDivisionError: #Type Z and press tab to get list of Exception of error\n",
    "    print(\"Handled t ZeroDivisionError\")\n",
    "except IndexError: #Type I and press tab to get list of Exception of Error\n",
    "    print(\"Excetpion is caught is list index out of range\")\n",
    "else:\n",
    "    print(c)\n",
    "    print(e)"
   ]
  },
  {
   "cell_type": "code",
   "execution_count": 13,
   "metadata": {},
   "outputs": [
    {
     "name": "stdout",
     "output_type": "stream",
     "text": [
      "Enter a number4\n",
      "Enter a number0\n",
      "Handled t ZeroDivisionError\n",
      "Excetpion is caught is list index out of range\n"
     ]
    }
   ],
   "source": [
    "a= int(input(\"Enter a number\"))\n",
    "b= int(input(\"Enter a number\"))\n",
    "d=[]\n",
    "try:\n",
    "    c=a/b\n",
    "except ZeroDivisionError: #Type Z and press tab to get list of Exception of error\n",
    "    print(\"Handled t ZeroDivisionError\")\n",
    "try:\n",
    "    e=d[5]\n",
    "except IndexError: #Type I and press tab to get list of Exception of Error\n",
    "    print(\"Excetpion is caught is list index out of range\")\n",
    "else:\n",
    "    print(c)\n",
    "    print(e)"
   ]
  },
  {
   "cell_type": "code",
   "execution_count": 15,
   "metadata": {},
   "outputs": [
    {
     "name": "stdout",
     "output_type": "stream",
     "text": [
      "Enter a number5\n",
      "Enter a number3\n",
      "Excetpion is caught\n"
     ]
    }
   ],
   "source": [
    "d=[]\n",
    "try:\n",
    "    a= int(input(\"Enter a number\"))\n",
    "    b= int(input(\"Enter a number\"))\n",
    "    c=a/b\n",
    "    e=d[5]\n",
    "except:#here we did not explain the type of exception. it will catch every exceptoion but it will not mentioned\n",
    "    print(\"Excetpion is caught\")\n",
    "else:\n",
    "    print(c)"
   ]
  },
  {
   "cell_type": "code",
   "execution_count": 21,
   "metadata": {},
   "outputs": [
    {
     "name": "stdout",
     "output_type": "stream",
     "text": [
      "Enter a numberd\n",
      "Handled Err0r == invalid literal for int() with base 10: 'd'\n",
      "Hwllo World\n"
     ]
    }
   ],
   "source": [
    "d=[]\n",
    "try:\n",
    "    a= int(input(\"Enter a number\"))\n",
    "    b= int(input(\"Enter a number\"))\n",
    "    c=a/b\n",
    "    f=d[5]\n",
    "except Exception as e:\n",
    "    print(\"Handled Err0r == \" +str(e))\n",
    "else:\n",
    "    print(c)\n",
    "print(\"Hwllo World\")"
   ]
  },
  {
   "cell_type": "code",
   "execution_count": 23,
   "metadata": {},
   "outputs": [
    {
     "name": "stdout",
     "output_type": "stream",
     "text": [
      "Enter a number4\n",
      "Enter a number3\n",
      "Handled Err0r == list index out of range\n",
      "1.3333333333333333\n"
     ]
    }
   ],
   "source": [
    "d=[]\n",
    "try:\n",
    "    a= int(input(\"Enter a number\"))\n",
    "    b= int(input(\"Enter a number\"))\n",
    "    c=a/b\n",
    "    f=d[5]\n",
    "except Exception as e:\n",
    "    print(\"Handled Err0r == \" +str(e))\n",
    "else:\n",
    "    print(c)\n",
    "print(c)"
   ]
  },
  {
   "cell_type": "code",
   "execution_count": 25,
   "metadata": {},
   "outputs": [
    {
     "name": "stdout",
     "output_type": "stream",
     "text": [
      "Enter a number3\n",
      "Enter a number1\n",
      "3.0\n",
      "3.0\n"
     ]
    }
   ],
   "source": [
    "d=[6, 2, 3, 2, 2, 0, 102]\n",
    "try:\n",
    "    a= int(input(\"Enter a number\"))\n",
    "    b= int(input(\"Enter a number\"))\n",
    "    c=a/b\n",
    "    f=d[5]\n",
    "except Exception as e:\n",
    "    print(\"Handled Err0r == \" +str(e))\n",
    "else:\n",
    "    print(c)\n",
    "print(c)"
   ]
  },
  {
   "cell_type": "code",
   "execution_count": 26,
   "metadata": {},
   "outputs": [
    {
     "name": "stdout",
     "output_type": "stream",
     "text": [
      "Enter a number4\n",
      "Enter a number0\n",
      "Handled Err0r == division by zero\n",
      "finally always run\n"
     ]
    }
   ],
   "source": [
    "a= int(input(\"Enter a number\"))\n",
    "b= int(input(\"Enter a number\"))\n",
    "d=[6, 2, 3, 2, 2, 0, 102]\n",
    "try:\n",
    "    c=a/b\n",
    "    f=d[5]\n",
    "except Exception as e:\n",
    "    print(\"Handled Err0r == \" +str(e))\n",
    "else:\n",
    "    print(c)\n",
    "finally:\n",
    "    print(\"finally always run\")"
   ]
  },
  {
   "cell_type": "code",
   "execution_count": 27,
   "metadata": {},
   "outputs": [],
   "source": [
    "class Student():\n",
    "    def __init__ (self, name, age):\n",
    "        if age > 80 or age < 16:\n",
    "            raise Exception(\"Age can not be greater than 80 and less than 16\")\n",
    "        self.name = name\n",
    "        self.age =age\n",
    "        \n",
    "        #humne aoni eik condition lagae hy or uspe exception \n",
    "        #continue from file available on group\n",
    "        "
   ]
  },
  {
   "cell_type": "code",
   "execution_count": 28,
   "metadata": {},
   "outputs": [
    {
     "ename": "FileNotFoundError",
     "evalue": "[Errno 2] No such file or directory: 'file1.text'",
     "output_type": "error",
     "traceback": [
      "\u001b[1;31m---------------------------------------------------------------------------\u001b[0m",
      "\u001b[1;31mFileNotFoundError\u001b[0m                         Traceback (most recent call last)",
      "\u001b[1;32m<ipython-input-28-b5696cca5481>\u001b[0m in \u001b[0;36m<module>\u001b[1;34m\u001b[0m\n\u001b[1;32m----> 1\u001b[1;33m \u001b[0mfd\u001b[0m \u001b[1;33m=\u001b[0m \u001b[0mopen\u001b[0m \u001b[1;33m(\u001b[0m\u001b[1;34m\"file1.text\"\u001b[0m\u001b[1;33m,\u001b[0m\u001b[1;34m\"r\"\u001b[0m\u001b[1;33m)\u001b[0m\u001b[1;33m\u001b[0m\u001b[1;33m\u001b[0m\u001b[0m\n\u001b[0m\u001b[0;32m      2\u001b[0m \u001b[0mmyArray\u001b[0m\u001b[1;33m=\u001b[0m\u001b[0mfd\u001b[0m\u001b[1;33m.\u001b[0m\u001b[0mreadlines\u001b[0m\u001b[1;33m(\u001b[0m\u001b[1;33m)\u001b[0m\u001b[1;33m\u001b[0m\u001b[1;33m\u001b[0m\u001b[0m\n\u001b[0;32m      3\u001b[0m \u001b[1;32mfor\u001b[0m \u001b[0mline\u001b[0m \u001b[1;32min\u001b[0m \u001b[0mmyArray\u001b[0m\u001b[1;33m:\u001b[0m\u001b[1;33m\u001b[0m\u001b[1;33m\u001b[0m\u001b[0m\n\u001b[0;32m      4\u001b[0m     \u001b[0mprint\u001b[0m\u001b[1;33m\u001b[0m\u001b[1;33m\u001b[0m\u001b[0m\n\u001b[0;32m      5\u001b[0m \u001b[1;32mfor\u001b[0m \u001b[0mline\u001b[0m \u001b[1;32min\u001b[0m \u001b[0mfd\u001b[0m\u001b[1;33m:\u001b[0m\u001b[1;33m\u001b[0m\u001b[1;33m\u001b[0m\u001b[0m\n",
      "\u001b[1;31mFileNotFoundError\u001b[0m: [Errno 2] No such file or directory: 'file1.text'"
     ]
    }
   ],
   "source": [
    "fd = open (\"file1.text\",\"r\")\n",
    "myArray=fd.readlines()\n",
    "for line in myArray:\n",
    "    print\n",
    "for line in fd:\n",
    "    print(line)"
   ]
  },
  {
   "cell_type": "code",
   "execution_count": 37,
   "metadata": {},
   "outputs": [],
   "source": [
    "x=\"This is a text message.\"\n",
    "with open (\"abc.txt\", \"w\") as file:\n",
    "    file.write(x)\n",
    "    file.write(x) \n",
    "    file.write(x)"
   ]
  },
  {
   "cell_type": "code",
   "execution_count": 38,
   "metadata": {},
   "outputs": [
    {
     "name": "stdout",
     "output_type": "stream",
     "text": [
      "i deleted previous work and changes made by me from notepad directly\n"
     ]
    }
   ],
   "source": [
    "with open (\"abc.txt\",\"r\") as file:\n",
    "    content=file.read()\n",
    "print(content)\n",
    "#fd=open(\"abc.txt\")\n",
    "#fd.readline()"
   ]
  },
  {
   "cell_type": "code",
   "execution_count": 50,
   "metadata": {},
   "outputs": [],
   "source": [
    "x=\"This is a sample text message.\"\n",
    "with open (\"abc.txt\", \"a\") as file:\n",
    "    file.write(x+'\\n')"
   ]
  },
  {
   "cell_type": "code",
   "execution_count": 51,
   "metadata": {},
   "outputs": [
    {
     "name": "stdout",
     "output_type": "stream",
     "text": [
      "This is a sample text message.\n",
      "This is a sample text message.\n",
      "This is a sample text message.\n",
      "This is a sample text message.\n",
      "\n"
     ]
    }
   ],
   "source": [
    "with open(\"abc.txt\",\"r\") as file:\n",
    "    print(file.read())"
   ]
  },
  {
   "cell_type": "code",
   "execution_count": null,
   "metadata": {},
   "outputs": [],
   "source": []
  },
  {
   "cell_type": "code",
   "execution_count": null,
   "metadata": {},
   "outputs": [],
   "source": []
  }
 ],
 "metadata": {
  "kernelspec": {
   "display_name": "Python 3",
   "language": "python",
   "name": "python3"
  },
  "language_info": {
   "codemirror_mode": {
    "name": "ipython",
    "version": 3
   },
   "file_extension": ".py",
   "mimetype": "text/x-python",
   "name": "python",
   "nbconvert_exporter": "python",
   "pygments_lexer": "ipython3",
   "version": "3.7.3"
  }
 },
 "nbformat": 4,
 "nbformat_minor": 2
}
